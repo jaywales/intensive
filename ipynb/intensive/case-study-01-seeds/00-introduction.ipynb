{
 "cells": [
  {
   "cell_type": "markdown",
   "metadata": {},
   "source": [
    "# Case Study - The Seeds Data Set"
   ]
  },
  {
   "cell_type": "markdown",
   "metadata": {},
   "source": [
    "## Introduction"
   ]
  },
  {
   "cell_type": "markdown",
   "metadata": {},
   "source": [
    "This will be a study of the Seeds data set available through the UCI Machine Learning Repository (https://archive.ics.uci.edu/ml/index.php). Additional information on this data set and is available here: https://archive.ics.uci.edu/ml/datasets/seeds. The data set is very similar to Fisher's Iris data set. It is used here as an alternative to Iris, as a simple and straightforward data set that is useful for introducing the main concepts of statistical learning and data science, especially Supervised and Unsupervised Learning and Classficication, Regression, and Clustering.\n",
    "The UCI ML Repository describes the data as\n",
    "\n",
    "> The data collected here is measurements of geometrical properties of kernels belonging to three different varieties of wheat. A soft X-ray technique and GRAINS package were used to construct all seven, real-valued attributes. \\footnote{UCI Machine Learning Repository}\n",
    "\n",
    "The **target** (also called labels, response, or dependent variable) fall into one of three classes just as in the Iris data set. The $n$, the number of observations (or points or rows), in the data set is very small. Iris contains 150 rows, whereas Seeds contains 210. The $p$, the number of salient **features** (also called predictors, input, or independent variables) is a bit larger than in Iris. Iris has four features, whereas Seeds has seven. In both data sets, all of the features are numerical and continuous."
   ]
  },
  {
   "cell_type": "markdown",
   "metadata": {},
   "source": [
    "### Structure of the Case Study"
   ]
  },
  {
   "cell_type": "markdown",
   "metadata": {},
   "source": [
    "The Case Study consists of three notebooks, a `README.md` file, and a Python file, `visualization.py`, arranged as follows:\n",
    "\n",
    "```\n",
    ".\n",
    "├── 00-introduction.ipynb\n",
    "├── 01-load-and-verify-data.ipynb\n",
    "├── 02-exploratory-data-analysis.ipynb\n",
    "└── visualization.py\n",
    "```\n",
    "\n",
    "The `00-introduction.ipynb` notebook contains information describing the data set and the structure of the project. The `01-load-and-verify-data.ipynb` notebook is the first phase of the Case Study, the **Loading and Verification of Data** and contains all steps required for obtaining, loading, preprocessing, verifying, and saving locally the data prior to any analysis work. The `02-exploratory-data-analysis.ipynb` notebook is the second phase of the Case Study and contains the **Exploratory Data Analysis** (EDA) work. The `visualization.py` file contains two Python functions that generate advanced visualizations."
   ]
  },
  {
   "cell_type": "markdown",
   "metadata": {},
   "source": [
    "#### Programming Method: Working in Multiple Notebooks"
   ]
  },
  {
   "cell_type": "markdown",
   "metadata": {},
   "source": [
    "The reader will note that the work in this Case Study has been split across three notebooks. While it is possible to do the work in this Case Study in a single notebook, we will consider it a best practice to use multiple notebooks and to do so to help to structure the work. Each notebook will represent a major phase of the work, while minor phases of work will be designated with subheadings within a specific notebook. This helps with computing resources, especially the execution of JavaScript required to render a Jupyter Notebook, but also with referring to earlier work in later phases of a project."
   ]
  },
  {
   "cell_type": "markdown",
   "metadata": {},
   "source": [
    "### Use of Statistical Learning Models for Exploratory Data Analysis"
   ]
  },
  {
   "cell_type": "markdown",
   "metadata": {},
   "source": [
    "The EDA work done in this Case Study uses several statistical learning models inluding:\n",
    "\n",
    "1. Linear Regression (a supervised regression model)\n",
    "1. Logistic Regression (a supervised classification model)\n",
    "1. K-Nearest Neighbors Classifier (a supervised classification model)\n",
    "1. T-SNE (an unsupervised dimensionality reduction model)\n",
    "1. K-Means (an unsupervised clustering model)\n",
    "\n",
    "Each of these models is used with a specific EDA-related purpose. Statistical learning models, especially supervised learning models, are often used for building predictive models whose efficacy is evaluated accordingly. It is of note that these models were used here for the purposes of EDA, and as such, have not been subjected to the rigorous model assessment associated with building a predictive model."
   ]
  }
 ],
 "metadata": {
  "kernelspec": {
   "display_name": "Python 3",
   "language": "python",
   "name": "python3"
  },
  "language_info": {
   "codemirror_mode": {
    "name": "ipython",
    "version": 3
   },
   "file_extension": ".py",
   "mimetype": "text/x-python",
   "name": "python",
   "nbconvert_exporter": "python",
   "pygments_lexer": "ipython3",
   "version": "3.6.5"
  }
 },
 "nbformat": 4,
 "nbformat_minor": 2
}
