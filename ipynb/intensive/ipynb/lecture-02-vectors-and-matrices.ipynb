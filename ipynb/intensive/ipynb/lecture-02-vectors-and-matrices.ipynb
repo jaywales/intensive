{
 "cells": [
  {
   "cell_type": "markdown",
   "metadata": {},
   "source": [
    "# Vectors and Matrices"
   ]
  },
  {
   "cell_type": "markdown",
   "metadata": {},
   "source": [
    "## The Vector\n",
    "\n",
    "A vector is a multi-dimensional element.\n",
    "\n",
    "e.g. $(1)$, $(1,3,5,8)$, $(1,2,\\dots,50)$\n",
    "\n",
    "As opposed to a scalar\n",
    "\n",
    "e.g. $1, \\sqrt{2}, e, \\pi, 101010, 47$\n",
    "\n",
    "## Scalar Arithmetic\n",
    "\n",
    "- add\n",
    "- subtract\n",
    "- multiply\n",
    "- divide"
   ]
  },
  {
   "cell_type": "markdown",
   "metadata": {},
   "source": [
    "## Representing Data with Matrices"
   ]
  },
  {
   "cell_type": "markdown",
   "metadata": {},
   "source": [
    "We will use $n$ to represent the number of distinct data points, or observations, in our data set. We will let $p$ denote the number of variables that are available for use in making predictions. "
   ]
  },
  {
   "cell_type": "markdown",
   "metadata": {},
   "source": [
    "In general, we will let $x_{ij}$ represent the value of the $j^{th}$ variable for the $i^{th}$ observation, where $i \\in [1:n]$ and $j \\in [1:p]$. "
   ]
  },
  {
   "cell_type": "markdown",
   "metadata": {},
   "source": [
    "$i$ will be used to index the samples or observations (from 1 to $n$) and $j$ will be used to index the variables (from 1 to $p$). We let $X$ denote a $n \\times p$ matrix whose $(i,j)^{th}$ element is $x_{ij}$. "
   ]
  },
  {
   "cell_type": "markdown",
   "metadata": {},
   "source": [
    "$$X =\n",
    "\\left(\n",
    "\\begin{matrix}\n",
    "x_{11} & x_{12} & \\dots & x_{1p} \\\\\n",
    "x_{21} & x_{22} & \\dots & x_{2p} \\\\\n",
    "\\vdots & \\vdots & \\ddots & \\vdots \\\\\n",
    "x_{n1} & x_{n2} & \\dots & x_{np} \n",
    "\\end{matrix}\n",
    "\\right)$$"
   ]
  },
  {
   "cell_type": "markdown",
   "metadata": {},
   "source": [
    "It is useful to visualize $X$ as a spreadsheet of numbers with $n$ rows and $p$ columns."
   ]
  },
  {
   "cell_type": "markdown",
   "metadata": {},
   "source": [
    "## Representing a Matrix in Python"
   ]
  },
  {
   "cell_type": "markdown",
   "metadata": {},
   "source": [
    "In Python, we can represent a matrix using the `numpy` library and its `array` class."
   ]
  },
  {
   "cell_type": "code",
   "execution_count": null,
   "metadata": {},
   "outputs": [],
   "source": [
    "import numpy as np"
   ]
  },
  {
   "cell_type": "code",
   "execution_count": null,
   "metadata": {},
   "outputs": [],
   "source": [
    "import random\n",
    "\n",
    "n = 5\n",
    "p = 3\n",
    "list_of_numbers = []\n",
    "for _ in range(15):\n",
    "    list_of_numbers.append(random.randint(1, 100))"
   ]
  },
  {
   "cell_type": "code",
   "execution_count": null,
   "metadata": {},
   "outputs": [],
   "source": [
    "list_of_numbers"
   ]
  },
  {
   "cell_type": "markdown",
   "metadata": {},
   "source": [
    "Here, we turn our list of numbers into an `np.array` object, then reshape that object into an $n \\times p$ matrix."
   ]
  },
  {
   "cell_type": "code",
   "execution_count": null,
   "metadata": {},
   "outputs": [],
   "source": [
    "X = np.array(list_of_numbers).reshape((n, p))"
   ]
  },
  {
   "cell_type": "code",
   "execution_count": null,
   "metadata": {},
   "outputs": [],
   "source": [
    "X"
   ]
  },
  {
   "cell_type": "code",
   "execution_count": null,
   "metadata": {},
   "outputs": [],
   "source": [
    "X.shape"
   ]
  },
  {
   "cell_type": "markdown",
   "metadata": {},
   "source": [
    "## The Elements of $X$\n",
    "\n",
    "$X$ is comprised of two different kinds of vectors: \n",
    "\n",
    "- Each row of $X$ is a vector of length $p$ (contains $p$ elements).\n",
    "- Each row of $X$ is an observation representing a single sample or point from our data set\n",
    "- Each column of $X$ is a vector of length $n$ (contains $n$ elements).\n",
    "- Each column of $X$ is all of the observations for a given variable over our entire data set"
   ]
  },
  {
   "cell_type": "markdown",
   "metadata": {},
   "source": [
    "All of the rows of $X$ are the elements of $X$ considered as row vectors. This is probably how you are most comfortable thinking about $X$ i.e. some data set."
   ]
  },
  {
   "cell_type": "markdown",
   "metadata": {},
   "source": [
    "At the same time, all of the column of $X$ are the elements of $X$ considered as column vectors. "
   ]
  },
  {
   "cell_type": "markdown",
   "metadata": {},
   "source": [
    "Suppose we consider a column of $X$ as \n",
    "\n",
    "$$\\mathbf{x}_j = \n",
    "\\left(\n",
    "\\begin{matrix}\n",
    "x_{1j} \\\\\n",
    "x_{2j} \\\\\n",
    "\\vdots \\\\\n",
    "x_{nj}  \n",
    "\\end{matrix}\n",
    "\\right)\n",
    "$$\n",
    "\n",
    "Note that this is taking into account that we always think of a single vector as a column."
   ]
  },
  {
   "cell_type": "markdown",
   "metadata": {},
   "source": [
    "We can then think of $X$ as\n",
    "\n",
    "$$ X =\n",
    "\\left(\n",
    "\\begin{matrix}\n",
    "\\mathbf{x}_1 & \\mathbf{x}_2 & \\dots & \\mathbf{x}_p\n",
    "\\end{matrix}\n",
    "\\right)$$"
   ]
  },
  {
   "cell_type": "markdown",
   "metadata": {},
   "source": [
    "## Column-Oriented Matrices in Python\n",
    "\n",
    "In Python, it is easier to work with the columns of a matrix using the Pandas library, and its `DataFrame` class."
   ]
  },
  {
   "cell_type": "code",
   "execution_count": null,
   "metadata": {},
   "outputs": [],
   "source": [
    "import pandas as pd"
   ]
  },
  {
   "cell_type": "code",
   "execution_count": null,
   "metadata": {},
   "outputs": [],
   "source": [
    "X = pd.DataFrame(X)"
   ]
  },
  {
   "cell_type": "code",
   "execution_count": null,
   "metadata": {},
   "outputs": [],
   "source": [
    "X"
   ]
  },
  {
   "cell_type": "code",
   "execution_count": null,
   "metadata": {},
   "outputs": [],
   "source": [
    "X[0]"
   ]
  },
  {
   "cell_type": "code",
   "execution_count": null,
   "metadata": {},
   "outputs": [],
   "source": [
    "X[[0,1,2]]"
   ]
  },
  {
   "cell_type": "code",
   "execution_count": null,
   "metadata": {},
   "outputs": [],
   "source": [
    "X[[0,2]]"
   ]
  },
  {
   "cell_type": "markdown",
   "metadata": {},
   "source": [
    "### Referencing a Row in a `DataFrame`\n",
    "\n",
    "It may still be necessary to reference the row of a matrix represented as a `DataFrame`. This can be done using the `.loc()` method. With `.loc()` rows can be referenced by their row index."
   ]
  },
  {
   "cell_type": "code",
   "execution_count": null,
   "metadata": {},
   "outputs": [],
   "source": [
    "X.loc[2]"
   ]
  },
  {
   "cell_type": "markdown",
   "metadata": {},
   "source": [
    "Note that even here, the row vector is represented as a column of numbers. "
   ]
  },
  {
   "cell_type": "markdown",
   "metadata": {},
   "source": [
    "## The Transpose\n",
    "\n",
    "We obtain the transpose of a matrix by flipping it around its axis.\n",
    "\n",
    "So that \n",
    "\n",
    "$$X^T =\n",
    "\\left(\n",
    "\\begin{matrix}\n",
    "x_{11} & x_{21} & \\dots & x_{n1} \\\\\n",
    "x_{12} & x_{22} & \\dots & x_{n2} \\\\\n",
    "\\vdots & \\vdots & \\ddots & \\vdots \\\\\n",
    "x_{1p} & x_{2p} & \\dots & x_{np} \n",
    "\\end{matrix}\n",
    "\\right)$$"
   ]
  },
  {
   "cell_type": "code",
   "execution_count": null,
   "metadata": {},
   "outputs": [],
   "source": [
    "X.T"
   ]
  },
  {
   "cell_type": "markdown",
   "metadata": {},
   "source": [
    "## The Dot Product\n",
    "\n",
    "It is possible to multiply two vectors of equal length together. This operation is called the **dot product** and yields a scalar value, that is, a single number.\n",
    "\n",
    "This number is obtained by \n",
    "\n",
    "1. multiplying each of the corresponding values from the two vectors\n",
    "1. summing the results"
   ]
  },
  {
   "cell_type": "markdown",
   "metadata": {},
   "source": [
    "Written in Python, the process would look as follows. Note that we are making use of a convention of writing vectors as a repeated lowercase letter. "
   ]
  },
  {
   "cell_type": "code",
   "execution_count": null,
   "metadata": {},
   "outputs": [],
   "source": [
    "aa = np.array([1,2,3])\n",
    "bb = np.array([-2,-1,0])\n",
    "\n",
    "multiples = []\n",
    "\n",
    "for a, b in zip(aa, bb):\n",
    "    multiples.append(a*b)"
   ]
  },
  {
   "cell_type": "code",
   "execution_count": null,
   "metadata": {},
   "outputs": [],
   "source": [
    "multiples"
   ]
  },
  {
   "cell_type": "code",
   "execution_count": null,
   "metadata": {},
   "outputs": [],
   "source": [
    "dot_product = sum(multiples)"
   ]
  },
  {
   "cell_type": "code",
   "execution_count": null,
   "metadata": {},
   "outputs": [],
   "source": [
    "dot_product"
   ]
  },
  {
   "cell_type": "markdown",
   "metadata": {},
   "source": [
    "### The Dot Product as a Row Vector Times a Column Vector\n",
    "\n",
    "Strictly speaking, the dot product is the multiplication of a row vector times a column vector. So that if we have \n",
    "\n",
    "\n",
    "$$\\mathbf{a} = \n",
    "\\left(\n",
    "\\begin{matrix}\n",
    "1 \\\\\n",
    "2 \\\\\n",
    "3  \n",
    "\\end{matrix}\n",
    "\\right)\n",
    "\\text{ and }\\text{ }\\mathbf{b} = \n",
    "\\left(\n",
    "\\begin{matrix}\n",
    "-2 \\\\\n",
    "-1 \\\\\n",
    "0  \n",
    "\\end{matrix}\n",
    "\\right)\n",
    "$$"
   ]
  },
  {
   "cell_type": "markdown",
   "metadata": {},
   "source": [
    "then the dot product we just performed would be written as \n",
    "\n",
    "$$\\mathbf{a}^T\\mathbf{b} = \n",
    "\\left(\n",
    "\\begin{matrix}\n",
    "1 &\n",
    "2 &\n",
    "3  \n",
    "\\end{matrix}\n",
    "\\right)\n",
    "\\left(\n",
    "\\begin{matrix}\n",
    "-2 \\\\\n",
    "-1 \\\\\n",
    "0  \n",
    "\\end{matrix}\n",
    "\\right) = 1\\cdot-2+2\\cdot-1+3\\cdot0-4$$"
   ]
  },
  {
   "cell_type": "markdown",
   "metadata": {},
   "source": [
    "or"
   ]
  },
  {
   "cell_type": "code",
   "execution_count": null,
   "metadata": {},
   "outputs": [],
   "source": [
    "aa.dot(bb)"
   ]
  },
  {
   "cell_type": "markdown",
   "metadata": {},
   "source": [
    "## Matrix Multiplication"
   ]
  },
  {
   "cell_type": "markdown",
   "metadata": {},
   "source": [
    "At the heart of the vast majority of work that we will be doing is matrix multiplication. Let us consider two matrices, $A$ and $B$.\n",
    "\n",
    "$$A = \n",
    "\\left(\n",
    "\\begin{matrix}\n",
    "1 & 2\\\\\n",
    "3 & 4\\\\\n",
    "\\end{matrix}\\right)\n",
    "\\text{  and }\n",
    "\\text{ }\n",
    "B = \n",
    "\\left(\n",
    "\\begin{matrix}\n",
    "5 & 6\\\\\n",
    "7 & 8\\\\\n",
    "\\end{matrix}\\right)\n",
    "$$"
   ]
  },
  {
   "cell_type": "markdown",
   "metadata": {},
   "source": [
    "Then the product of $A$ and $B$ is denoted $AB$. \n",
    "\n",
    "The $(i,j)^{th}$ element of $AB$ is computed by computing the dot product of the $i$th row of $A$ with the $j$th row of B."
   ]
  },
  {
   "cell_type": "code",
   "execution_count": null,
   "metadata": {},
   "outputs": [],
   "source": [
    "A = pd.DataFrame([[1,2],[3,4]])\n",
    "B = pd.DataFrame([[5,6],[7,8]])"
   ]
  },
  {
   "cell_type": "markdown",
   "metadata": {},
   "source": [
    "So the (1,1)th element of $AB$ should be $1\\cdot5+2\\cdot7 =19$."
   ]
  },
  {
   "cell_type": "code",
   "execution_count": null,
   "metadata": {},
   "outputs": [],
   "source": [
    "A.loc[0].dot(B[0])"
   ]
  },
  {
   "cell_type": "markdown",
   "metadata": {},
   "source": [
    "We would repeat this process for every element of $AB$. As you can imagine this would be very tedious by hand."
   ]
  },
  {
   "cell_type": "code",
   "execution_count": null,
   "metadata": {},
   "outputs": [],
   "source": [
    "A.dot(B)"
   ]
  },
  {
   "cell_type": "markdown",
   "metadata": {},
   "source": [
    "# Why?\n",
    "\n",
    "## Transformations\n",
    "\n",
    "- Rotation Matrix (project data from two axes to one)\n",
    "- Compute the difference vector"
   ]
  },
  {
   "cell_type": "code",
   "execution_count": null,
   "metadata": {},
   "outputs": [],
   "source": [
    "s"
   ]
  }
 ],
 "metadata": {
  "kernelspec": {
   "display_name": "Python 3",
   "language": "python",
   "name": "python3"
  },
  "language_info": {
   "codemirror_mode": {
    "name": "ipython",
    "version": 3
   },
   "file_extension": ".py",
   "mimetype": "text/x-python",
   "name": "python",
   "nbconvert_exporter": "python",
   "pygments_lexer": "ipython3",
   "version": "3.6.5"
  }
 },
 "nbformat": 4,
 "nbformat_minor": 2
}
